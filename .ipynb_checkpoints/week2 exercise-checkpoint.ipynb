{
 "cells": [
  {
   "cell_type": "code",
   "execution_count": 2,
   "metadata": {},
   "outputs": [
    {
     "data": {
      "text/plain": [
       "[4, 48, 25, 47, 21, 9]"
      ]
     },
     "execution_count": 2,
     "metadata": {},
     "output_type": "execute_result"
    }
   ],
   "source": [
    "#Mark Six lottery machine\n",
    "import random\n",
    "a=range(1,50)\n",
    "random.choices(a,k=6)"
   ]
  },
  {
   "cell_type": "code",
   "execution_count": 3,
   "metadata": {},
   "outputs": [
    {
     "data": {
      "text/plain": [
       "'JD.com head Liu briefly held in US for sexual misconduct'"
      ]
     },
     "execution_count": 3,
     "metadata": {},
     "output_type": "execute_result"
    }
   ],
   "source": [
    "#A simple model of media monitoring\n",
    "import requests\n",
    "from bs4 import BeautifulSoup\n",
    "r = requests.get('https://www.bbc.com/news/business-45392816')\n",
    "liuliu=r.text\n",
    "liuliu\n",
    "data = BeautifulSoup(liuliu,\"html.parser\") \n",
    "data\n",
    "jd=data.find(\"h1\")\n",
    "jd\n",
    "jd.text"
   ]
  },
  {
   "cell_type": "code",
   "execution_count": 4,
   "metadata": {},
   "outputs": [
    {
     "name": "stdout",
     "output_type": "stream",
     "text": [
      "revenue1= -58000.0\n",
      "revenue2= -12000.0\n",
      "revenue3= 34000.0\n"
     ]
    }
   ],
   "source": [
    "#Design and calculate a simple media business model\n",
    "content_cost = 70000\n",
    "labor_cost = 30000\n",
    "server_cost = 50000\n",
    "member_fee = 15\n",
    "convert_rate = 0.1\n",
    "ad_revenue = 0.8\n",
    "subscription_fee = 15\n",
    "# visitor = float(input('please input your estimate number of subscribers:')) #第一种方法 输入什么就会输出什么\n",
    "# visit=[40000,60000,80000]\n",
    "# for visitor in range(len(visit)):\n",
    "#     revenue =((visitor*convert_rate*member_fee) + visitor*ad_revenue) - (content_cost+labor_cost+server_cost) #第二种尝试 结果不正确 求解答\n",
    "#     print(visitor)\n",
    "def revenue(visitor):\n",
    "    revenue =((visitor*convert_rate*member_fee) + visitor*ad_revenue) - (content_cost+labor_cost+server_cost)\n",
    "    return revenue\n",
    "print('revenue1=',revenue(40000))\n",
    "print('revenue2=',revenue(60000))\n",
    "print('revenue3=',revenue(80000))   #第三种方法 可以列出来"
   ]
  },
  {
   "cell_type": "code",
   "execution_count": 6,
   "metadata": {},
   "outputs": [
    {
     "name": "stdout",
     "output_type": "stream",
     "text": [
      "please input your estimate number of subscribers:88888888\n",
      "revenue 203406053.52000004\n"
     ]
    }
   ],
   "source": [
    "#optional challenge \n",
    "content_cost = 70000\n",
    "labor_cost = 30000\n",
    "server_cost = 50000\n",
    "member_fee = 15\n",
    "convert_rate = 0.1\n",
    "ad_revenue = 0.8\n",
    "subscription_fee = 15\n",
    "visitor = float(input('please input your estimate number of subscribers:')) #可以输入任意的人数，获取变量值\n",
    "if visitor<=50000:\n",
    "    revenue = ((visitor*convert_rate*member_fee) + visitor*ad_revenue) - (content_cost+labor_cost+server_cost)\n",
    "else : \n",
    "    revenue = ((visitor*convert_rate*member_fee) + visitor*ad_revenue) - (content_cost+labor_cost+server_cost)-((visitor-50000)*0.01)\n",
    "print('revenue',revenue)"
   ]
  },
  {
   "cell_type": "code",
   "execution_count": null,
   "metadata": {},
   "outputs": [],
   "source": []
  }
 ],
 "metadata": {
  "kernelspec": {
   "display_name": "Python 3",
   "language": "python",
   "name": "python3"
  },
  "language_info": {
   "codemirror_mode": {
    "name": "ipython",
    "version": 3
   },
   "file_extension": ".py",
   "mimetype": "text/x-python",
   "name": "python",
   "nbconvert_exporter": "python",
   "pygments_lexer": "ipython3",
   "version": "3.6.5"
  }
 },
 "nbformat": 4,
 "nbformat_minor": 2
}
