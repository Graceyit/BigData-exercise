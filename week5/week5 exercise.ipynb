{
 "cells": [
  {
   "cell_type": "code",
   "execution_count": 6,
   "metadata": {},
   "outputs": [],
   "source": [
    "#2017\n",
    "import requests\n",
    "import csv\n",
    "from bs4 import BeautifulSoup"
   ]
  },
  {
   "cell_type": "code",
   "execution_count": 9,
   "metadata": {},
   "outputs": [],
   "source": [
    "url='https://github.com/myersjustinc?tab=overview&from=2017-12-01&to=2017-12-31'\n",
    "r=requests.get(url).text\n",
    "data =BeautifulSoup(r,'html.parser')\n",
    "# the_record=data.find('rect',attrs={'class':'day'})---single\n",
    "the_records=data.find_all('rect',attrs={'class':'day'})#----what is the difference between 5&6?\n",
    "# the_records=data.find_all('rect')\n",
    "my_data=[]\n",
    "#for record in the_records: list indices must be integers or slices, not str-----what's wrong about record?\n",
    "# for record in the_record:---------------list indices must be integers or slices, not str\n",
    "for the_record in the_records:\n",
    "    contribution=the_record['data-count']\n",
    "    date=the_record['data-date']\n",
    "    my_data.append((contribution,date))"
   ]
  },
  {
   "cell_type": "code",
   "execution_count": 8,
   "metadata": {},
   "outputs": [],
   "source": [
    "with open('test1.csv','w',newline='')as f:\n",
    "    writer=csv.writer(f)\n",
    "    header=['contribution','header']\n",
    "    writer.writerow(header)\n",
    "    writer.writerows(my_data)"
   ]
  },
  {
   "cell_type": "code",
   "execution_count": 10,
   "metadata": {},
   "outputs": [],
   "source": [
    "#all\n",
    "import requests\n",
    "import csv\n",
    "from bs4 import BeautifulSoup"
   ]
  },
  {
   "cell_type": "code",
   "execution_count": 13,
   "metadata": {},
   "outputs": [],
   "source": [
    "def scrape_one_contribution(one_page):\n",
    "    r = requests.get(one_page).text\n",
    "    data = BeautifulSoup(r,\"html.parser\")\n",
    "    the_records=data.find_all('rect')\n",
    "    my_page=one_page\n",
    "    for the_record in the_records:\n",
    "        contribution=the_record['data-count']\n",
    "        date=the_record['data-date']\n",
    "    return contribution,date,my_page"
   ]
  },
  {
   "cell_type": "code",
   "execution_count": 16,
   "metadata": {},
   "outputs": [],
   "source": [
    "def scrape_all_contribution(all_page):\n",
    "    one_pages=[]\n",
    "    r = requests.get(all_page).text\n",
    "    data = BeautifulSoup(r,\"html.parser\")\n",
    "    my_pages=data.find_all('rect',attrs={'class':'day js-read-more'})#?\n",
    "    for my_page in my_pages:\n",
    "        "
   ]
  },
  {
   "cell_type": "code",
   "execution_count": null,
   "metadata": {},
   "outputs": [],
   "source": []
  }
 ],
 "metadata": {
  "kernelspec": {
   "display_name": "Python 3",
   "language": "python",
   "name": "python3"
  },
  "language_info": {
   "codemirror_mode": {
    "name": "ipython",
    "version": 3
   },
   "file_extension": ".py",
   "mimetype": "text/x-python",
   "name": "python",
   "nbconvert_exporter": "python",
   "pygments_lexer": "ipython3",
   "version": "3.6.5"
  }
 },
 "nbformat": 4,
 "nbformat_minor": 2
}
